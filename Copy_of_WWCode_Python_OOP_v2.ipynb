{
  "nbformat": 4,
  "nbformat_minor": 0,
  "metadata": {
    "colab": {
      "provenance": [],
      "include_colab_link": true
    },
    "kernelspec": {
      "name": "python3",
      "display_name": "Python 3"
    },
    "language_info": {
      "name": "python"
    }
  },
  "cells": [
    {
      "cell_type": "markdown",
      "metadata": {
        "id": "view-in-github",
        "colab_type": "text"
      },
      "source": [
        "<a href=\"https://colab.research.google.com/github/nuageklow/WWCodePy_OOP/blob/main/Copy_of_WWCode_Python_OOP_v2.ipynb\" target=\"_parent\"><img src=\"https://colab.research.google.com/assets/colab-badge.svg\" alt=\"Open In Colab\"/></a>"
      ]
    },
    {
      "cell_type": "markdown",
      "source": [
        "# WWCode Python - Object Oriented Programming with Python\n"
      ],
      "metadata": {
        "id": "Sujj1Ta3bSKy"
      }
    },
    {
      "cell_type": "markdown",
      "source": [
        "# What is OOP  \n"
      ],
      "metadata": {
        "id": "vrzsnmf9cX2F"
      }
    },
    {
      "cell_type": "markdown",
      "source": [
        "\n",
        "\n",
        "Object-Oriented Programming (OOP) is a programming paradigm that revolves around the concept of objects, which are instances of classes. Python is a versatile and widely-used programming language that supports OOP principles seamlessly.\n",
        "<br>**Here's a brief introduction to OOP using Python:**"
      ],
      "metadata": {
        "id": "9A_-0y9SqlV0"
      }
    },
    {
      "cell_type": "markdown",
      "source": [
        "**Objects and Classes:**\n",
        "\n",
        "In OOP, everything is treated as an object. Objects are instances of classes.\n",
        "A class is like a blueprint or template for creating objects. It defines the attributes (data) and methods (functions) that the objects of that class will have.\n",
        "\n",
        "<br>\n",
        "\n",
        "**Objects are Instances of Classes:**\n",
        "Imagine you're building a computer program to simulate a car dealership. In this program, you want to represent various cars.\n",
        "In OOP, a car is treated as an object. Each specific car in your program, like a Toyota Camry or a Honda Civic, is an individual object.\n",
        "These individual cars are called instances, and they are created based on a class.\n",
        "<br>\n",
        "**A Class is like a Blueprint:**\n",
        "Think of a class as a blueprint or template for creating cars. It defines how a car should be structured and what it can do.\n",
        "In your program, you would define a class called Car to represent the common attributes and behaviors shared by all cars. This class serves as a blueprint for creating specific car objects.\n",
        "\n",
        "\n",
        "\n",
        "```\n",
        "class Car:\n",
        "    # Attributes (data) shared by all cars\n",
        "    def __init__(self, make, model):\n",
        "        self.make = make\n",
        "        self.model = model\n",
        "\n",
        "    # Method (function) shared by all cars\n",
        "    def start(self):\n",
        "        print(f\"{self.make} {self.model} is starting.\")\n",
        "\n",
        "```\n",
        "\n",
        "In the code above, the Car class is defined with attributes like make and model (which represent the car's manufacturer and model) and a method called start (which simulates starting the car).\n",
        "This class is like a blueprint that specifies what every car should have (attributes) and what every car should be able to do (methods)."
      ],
      "metadata": {
        "id": "QvSsStItqxNB"
      }
    },
    {
      "cell_type": "markdown",
      "source": [
        "Creating Objects (Car Instances):\n",
        "\n",
        "To create individual car objects, you instantiate the Car class. Each instance of a car is a unique object with its own data.\n",
        "\n",
        "```\n",
        "# Creating car objects (instances of the Car class)\n",
        "car1 = Car(\"Toyota\", \"Camry\")\n",
        "car2 = Car(\"Honda\", \"Civic\")\n",
        "\n",
        "```\n",
        "\n",
        "Here, car1 and car2 are two separate car objects, each with its own make and model attributes.\n",
        "Using Objects:\n",
        "\n",
        "Once you have car objects, you can use them to perform actions. For example, you can start the cars using the start method:\n",
        "\n",
        "```\n",
        "car1.start()  # Output: Toyota Camry is starting.\n",
        "car2.start()  # Output: Honda Civic is starting.\n",
        "\n",
        "```\n",
        "\n",
        "\n",
        "Each car object has its own unique data, but they share the same method, as defined in the Car class blueprint."
      ],
      "metadata": {
        "id": "wiPCrr8WqkpW"
      }
    },
    {
      "cell_type": "markdown",
      "source": [
        "#Encapsulation:\n",
        "\n",
        "Encapsulation is the principle of bundling data (attributes) and the methods (functions) that operate on that data into a single unit called a class.\n",
        "In Python, you can define a class using the class keyword.\n",
        "python\n",
        "Copy code\n",
        "class Car:\n",
        "    def __init__(self, make, model):\n",
        "        self.make = make\n",
        "        self.model = model\n",
        "\n",
        "    def start(self):\n",
        "        print(f\"{self.make} {self.model} is starting.\")\n",
        "\n",
        "# Creating objects of the Car class\n",
        "car1 = Car(\"Toyota\", \"Camry\")\n",
        "car2 = Car(\"Honda\", \"Civic\")\n",
        "Inheritance:\n",
        "\n",
        "Inheritance allows you to create a new class (subclass) that inherits properties and behaviors (attributes and methods) from an existing class (superclass).\n",
        "Python supports single and multiple inheritance.\n",
        "python\n",
        "Copy code\n",
        "class ElectricCar(Car):\n",
        "    def __init__(self, make, model, battery_capacity):\n",
        "        super().__init__(make, model)\n",
        "        self.battery_capacity = battery_capacity\n",
        "\n",
        "    def charge(self):\n",
        "        print(f\"{self.make} {self.model} is charging.\")\n",
        "\n",
        "# Creating an ElectricCar object\n",
        "electric_car = ElectricCar(\"Tesla\", \"Model 3\", 75)\n",
        "Polymorphism:\n",
        "\n",
        "Polymorphism allows objects of different classes to be treated as objects of a common superclass.\n",
        "In Python, you can achieve polymorphism through method overriding.\n",
        "python\n",
        "Copy code\n",
        "class SportsCar(Car):\n",
        "    def start(self):\n",
        "        print(f\"{self.make} {self.model} is revving up.\")\n",
        "\n",
        "# Creating a SportsCar object\n",
        "sports_car = SportsCar(\"Ferrari\", \"488 GTB\")\n",
        "\n",
        "# Polymorphism in action\n",
        "cars = [car1, car2, electric_car, sports_car]\n",
        "for car in cars:\n",
        "    car.start()\n",
        "Abstraction:\n",
        "\n",
        "Abstraction is the concept of hiding complex implementation details and showing only the necessary features of an object.\n",
        "In Python, you can achieve abstraction by defining abstract base classes using the abc module.\n",
        "python\n",
        "Copy code\n",
        "from abc import ABC, abstractmethod\n",
        "\n",
        "class Vehicle(ABC):\n",
        "    def __init__(self, make, model):\n",
        "        self.make = make\n",
        "        self.model = model\n",
        "\n",
        "    @abstractmethod\n",
        "    def start(self):\n",
        "        pass\n",
        "OOP in Python allows you to create clean, organized, and reusable code by modeling real-world entities as objects and leveraging the principles of encapsulation, inheritance, polymorphism, and abstraction.\n"
      ],
      "metadata": {
        "id": "CjzUhdw9w6-a"
      }
    },
    {
      "cell_type": "markdown",
      "source": [
        "## Live Coding - Be Your Own Coffee Barista  \n",
        "\n",
        "* learn to define an object\n",
        "* use __str__ and __repr__  \n",
        "* inheritance  \n",
        "\n",
        "\n",
        "1. define an object called MyCoffee using class  \n",
        "2. the cup of coffee contains 3 adjustable ingredients - amount of coffee beans, portion of milk and portion of sugar  \n",
        "3. create functions that handle the input of each ingredient"
      ],
      "metadata": {
        "id": "wKYuAyV6xqtY"
      }
    },
    {
      "cell_type": "code",
      "source": [
        "class MyCoffee:\n",
        "\n",
        "  ## register variables - the ingredients\n",
        "  def __init__(self):\n",
        "    pass\n",
        "\n",
        "\n",
        "  ## create private functions to process the input of each ingredient\n",
        "  def _handle_weight(self, weight):\n",
        "    ''' weight has to be within 1 to 1000, raise execption if it does not meet the condition '''\n",
        "    pass\n",
        "\n",
        "  def _handle_with_milk(self, milk):\n",
        "    ''' change self.milk to \"no\" when milk portion is 0 '''\n",
        "    pass\n",
        "\n",
        "  def _handle_with_sugar(self, sugar):\n",
        "    ''' change self.sugar to \"no\" when sugar portion is 0 '''\n",
        "    pass\n",
        "\n",
        "  def handle_ingredients(self):\n",
        "    ''' a function to process each ingredient '''\n",
        "    pass\n",
        "\n",
        "\n",
        "  ## define string representation of MyCoffee the object\n",
        "  def __str__(self):\n",
        "    pass\n",
        "\n",
        "  def __repr__(self):\n",
        "    pass\n",
        "\n",
        "\n",
        "\n"
      ],
      "metadata": {
        "id": "z3AAeKNo0ShT"
      },
      "execution_count": null,
      "outputs": []
    },
    {
      "cell_type": "markdown",
      "source": [
        "Now that we have created our \"coffee\" with definitions (ingredients), let's create a object called `CoffeeMaking` to \"make\" the coffee by listing the steps.\n",
        "\n",
        "`CoffeeMaking` will also be inhierenting `MyCoffee` all variables and functions will be passing to the new object we will be creating.  \n"
      ],
      "metadata": {
        "id": "HzRcTTpfdWc9"
      }
    },
    {
      "cell_type": "code",
      "source": [
        "class CoffeeMaking(MyCoffee):\n",
        "  # register variables\n",
        "  def __init__(self, weight=200, milk_portion=2, sugar_portion=2):\n",
        "    # use the super function to inhierent all the attributes from parent class\n",
        "    super().__init__(weight, milk_portion, sugar_portion)\n",
        "\n",
        "    ## list steps to make a coffee\n",
        "    def _grind_coffee_bean(self):\n",
        "      pass\n",
        "\n",
        "    def _add_hot_water(self):\n",
        "      pass\n",
        "\n",
        "    def _add_sugar(self):\n",
        "      pass\n",
        "\n",
        "    def _add_milk(self):\n",
        "      pass\n",
        "\n",
        "    ## execute the process of making coffee\n",
        "    def make_coffee(self):\n",
        "      pass\n"
      ],
      "metadata": {
        "id": "BzkLlBgmdWIy"
      },
      "execution_count": null,
      "outputs": []
    },
    {
      "cell_type": "markdown",
      "source": [
        "# **Real life example - Task Details:**<br>\n",
        "Imagine you're building a project management system, and you want to represent tasks within the project. Each task has properties and behaviors that can be nicely encapsulated using OOP principles. Here's a Python code example that demonstrates this concept:"
      ],
      "metadata": {
        "id": "84bcY8UhBSR-"
      }
    },
    {
      "cell_type": "code",
      "source": [
        "class Task:\n",
        "    def __init__(self, title, description, due_date):\n",
        "        self.title = title\n",
        "        self.description = description\n",
        "        self.due_date = due_date\n",
        "        self.is_completed = False\n",
        "\n",
        "    def mark_as_completed(self):\n",
        "        self.is_completed = True\n",
        "\n",
        "    def __str__(self):\n",
        "        status = \"Completed\" if self.is_completed else \"Incomplete\"\n",
        "        return f\"Task: {self.title}\\nDescription: {self.description}\\nDue Date: {self.due_date}\\nStatus: {status}\"\n",
        "\n",
        "# Creating task objects\n",
        "task1 = Task(\"Implement User Authentication\", \"Create user login functionality\", \"2023-11-15\")\n",
        "task2 = Task(\"Database Integration\", \"Connect the application to the database\", \"2023-12-01\")\n",
        "\n",
        "# Marking a task as completed\n",
        "task1.mark_as_completed()\n",
        "\n",
        "# Printing task details\n",
        "print(\"Task 1:\")\n",
        "print(task1)\n",
        "\n",
        "print(\"\\nTask 2:\")\n",
        "print(task2)\n"
      ],
      "metadata": {
        "colab": {
          "base_uri": "https://localhost:8080/"
        },
        "id": "_7IgGxz7A2fE",
        "outputId": "502608de-3c12-41e7-db57-5874c0eda3af"
      },
      "execution_count": null,
      "outputs": [
        {
          "output_type": "stream",
          "name": "stdout",
          "text": [
            "Task 1:\n",
            "Task: Implement User Authentication\n",
            "Description: Create user login functionality\n",
            "Due Date: 2023-11-15\n",
            "Status: Completed\n",
            "\n",
            "Task 2:\n",
            "Task: Database Integration\n",
            "Description: Connect the application to the database\n",
            "Due Date: 2023-12-01\n",
            "Status: Incomplete\n"
          ]
        }
      ]
    },
    {
      "cell_type": "markdown",
      "source": [
        "Using the Task Class as an OOP Example:\n",
        "\n",
        "Class Definition:\n",
        "\n",
        "The code defines a Python class named Task. This class represents a task with attributes like title, description, due_date, and a Boolean attribute is_completed to track the task's completion status.\n",
        "The Task class also includes methods:\n",
        "__init__(self, title, description, due_date): This is the constructor method that initializes a new task with the provided details. It also sets the is_completed attribute to False by default.\n",
        "mark_as_completed(self): This method allows you to mark a task as completed by setting is_completed to True.\n",
        "__str__(self): This special method defines how the task object should be represented as a string when printed. It provides a formatted string with task details and status.\n",
        "Creating Task Objects:\n",
        "\n",
        "The code creates two task objects, task1 and task2, by calling the Task class constructor with specific task details.\n",
        "python\n",
        "Copy code\n",
        "task1 = Task(\"Implement User Authentication\", \"Create user login functionality\", \"2023-11-15\")\n",
        "task2 = Task(\"Database Integration\", \"Connect the application to the database\", \"2023-12-01\")\n",
        "Marking a Task as Completed:\n",
        "\n",
        "The code marks task1 as completed using the mark_as_completed method:\n",
        "python\n",
        "Copy code\n",
        "task1.mark_as_completed()\n",
        "This sets the is_completed attribute of task1 to True.\n",
        "Printing Task Details:\n",
        "\n",
        "The code prints the details of both task objects using the print function and the __str__ method:\n",
        "python\n",
        "Copy code\n",
        "print(\"Task 1:\")\n",
        "print(task1)\n",
        "\n",
        "print(\"\\nTask 2:\")\n",
        "print(task2)\n",
        "The __str__ method is automatically called when an object is printed, and it formats the output to display the task's title, description, due date, and status.\n",
        "OOP Concepts Illustrated:\n",
        "\n",
        "Objects and Classes: The Task class serves as the blueprint, defining the structure and behavior of task objects (task1 and task2).\n",
        "\n",
        "Encapsulation: Data (attributes like title, description, due_date, and is_completed) and methods (functions like mark_as_completed) are encapsulated within the Task class.\n",
        "\n",
        "Methods: The methods of the Task class (mark_as_completed and __str__) demonstrate the use of functions within a class.\n",
        "\n",
        "Attributes: Attributes (title, description, due_date, and is_completed) are properties that store data related to each task.\n",
        "\n",
        "Constructor: The __init__ method is a constructor that initializes task objects with specific data when they are created.\n",
        "\n",
        "Polymorphism: The __str__ method is an example of polymorphism, as it customizes how the object is represented as a string, allowing for easy and human-readable output.\n",
        "\n",
        "This code showcases the fundamental OOP concepts of class, object, encapsulation, methods, and attributes in the context of a simple task management system."
      ],
      "metadata": {
        "id": "LH0tNA7nB4OP"
      }
    },
    {
      "cell_type": "markdown",
      "source": [
        "# __Real life example - Calculation__  \n",
        "\n",
        "Perform calculation in class style allows you to organize your code and group all the relevant functions that can be used in the object.  \n",
        "\n",
        "Example below demonstrate how to calculate cosine similarity with a list of vector.\n",
        "\n"
      ],
      "metadata": {
        "id": "crXFChhUNsCX"
      }
    },
    {
      "cell_type": "code",
      "source": [
        "import numpy as np\n",
        "from numpy import dot\n",
        "from numpy.linalg import norm\n",
        "\n",
        "\n",
        "class CosineSimilarity:\n",
        "  def __init__(self, vector_list):\n",
        "    self.vector_list = vector_list\n",
        "\n",
        "  def _convert_npy(self, vector_list):\n",
        "    ''' convert input list to numpy array format '''\n",
        "    return np.array(vector_list)\n",
        "\n",
        "  def calculate(self, vec_1, vec_2):\n",
        "    ''' calculate cosine similarity '''\n",
        "    return dot(vec_1, vec_2)/(norm(vec_1) * norm(vec_2))\n",
        "\n",
        "  def batch_processing(self, vector_list):\n",
        "    ''' calculate cosine similarity with each vector in the list against the next vector '''\n",
        "    result_list = []\n",
        "    start_idx = 0\n",
        "\n",
        "    while start_idx < len(vector_list) -1:\n",
        "      next_idx = start_idx + 1\n",
        "      current_vec, next_vec = vector_list[start_idx], vector_list[next_idx]\n",
        "      cos_sim = self.calculate(current_vec, next_vec)\n",
        "      result_list.append(cos_sim)\n",
        "      start_idx += 1\n",
        "\n",
        "    return result_list\n",
        "\n",
        "  def run(self):\n",
        "    ''' run the class CosineSimilarity '''\n",
        "    vector_npy_list = self._convert_npy(self.vector_list)\n",
        "    output_list = self.batch_processing(vector_npy_list)\n",
        "    print(output_list)\n",
        "    return output_list\n",
        "\n",
        "\n",
        "if __name__ == '__main__':\n",
        "  import random\n",
        "  sample_list = [random.uniform(0, 6.7) for i in range(0, 20)]\n",
        "  CosineSimilarity(sample_list).run()\n",
        "\n"
      ],
      "metadata": {
        "id": "hIDoyyTQNq6k"
      },
      "execution_count": null,
      "outputs": []
    }
  ]
}